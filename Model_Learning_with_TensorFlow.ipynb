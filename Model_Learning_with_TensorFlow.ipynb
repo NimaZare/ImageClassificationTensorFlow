{
  "nbformat": 4,
  "nbformat_minor": 0,
  "metadata": {
    "colab": {
      "provenance": [],
      "gpuType": "T4"
    },
    "kernelspec": {
      "name": "python3",
      "display_name": "Python 3"
    },
    "language_info": {
      "name": "python"
    },
    "accelerator": "GPU"
  },
  "cells": [
    {
      "cell_type": "markdown",
      "source": [
        "**Project Coded By Nima Zare (https://nimazare.net/)**\n",
        "\n",
        "*Project Description:*\n",
        "\n",
        "In this project, you will build a deep learning model using TensorFlow to classify images. You'll use a popular dataset like the CIFAR-10 dataset, which contains 60,000 32x32 color images in 10 different classes. Your goal is to train a convolutional neural network (CNN) to classify these images into their respective categories.\n",
        "\n",
        "*Resources*:\n",
        "\n",
        "TensorFlow documentation and tutorials: https://www.tensorflow.org/\n",
        "\n",
        "Keras documentation: https://keras.io/\n",
        "\n",
        "CIFAR-10 dataset: https://www.cs.toronto.edu/~kriz/cifar.html"
      ],
      "metadata": {
        "id": "RKlSuf7NZ9vT"
      }
    },
    {
      "cell_type": "markdown",
      "source": [
        "### **Import Librareis**"
      ],
      "metadata": {
        "id": "GY4EvhtRSaXY"
      }
    },
    {
      "cell_type": "code",
      "execution_count": 10,
      "metadata": {
        "id": "xHA4B6aYNxxD"
      },
      "outputs": [],
      "source": [
        "import tensorflow as tf\n",
        "from tensorflow import keras\n",
        "from tensorflow.keras import layers\n",
        "from tensorflow.keras.datasets import cifar10\n",
        "from tensorflow.keras.applications import VGG16"
      ]
    },
    {
      "cell_type": "markdown",
      "source": [
        "### **Load the Data**"
      ],
      "metadata": {
        "id": "wqXHdywQRjXy"
      }
    },
    {
      "cell_type": "code",
      "source": [
        "(x_train, y_train), (x_test, y_test) = cifar10.load_data()\n",
        "x_train = x_train.astype('float32') / 255.0\n",
        "x_test = x_test.astype('float32') / 255.0"
      ],
      "metadata": {
        "id": "eaNQi-ky5kqq"
      },
      "execution_count": 11,
      "outputs": []
    },
    {
      "cell_type": "markdown",
      "source": [
        "### **Build Model**"
      ],
      "metadata": {
        "id": "9k3_2Ta-Sr4Y"
      }
    },
    {
      "cell_type": "code",
      "source": [
        "base_model = VGG16(weights='imagenet', include_top=False, input_shape=(32, 32, 3))"
      ],
      "metadata": {
        "colab": {
          "base_uri": "https://localhost:8080/"
        },
        "id": "FlCJNHZoML86",
        "outputId": "c168fce9-a741-44b2-a6e8-a6a413516a49"
      },
      "execution_count": 12,
      "outputs": [
        {
          "output_type": "stream",
          "name": "stdout",
          "text": [
            "Downloading data from https://storage.googleapis.com/tensorflow/keras-applications/vgg16/vgg16_weights_tf_dim_ordering_tf_kernels_notop.h5\n",
            "58889256/58889256 [==============================] - 0s 0us/step\n"
          ]
        }
      ]
    },
    {
      "cell_type": "code",
      "source": [
        "model = keras.Sequential([\n",
        "    base_model,\n",
        "    layers.Flatten(),\n",
        "    layers.Dense(256, activation='relu'),\n",
        "    layers.Dropout(0.5),\n",
        "    layers.Dense(10, activation='softmax')\n",
        "])\n",
        "\n",
        "base_model.trainable = False"
      ],
      "metadata": {
        "id": "Zwx_AN5OMSIg"
      },
      "execution_count": 14,
      "outputs": []
    },
    {
      "cell_type": "code",
      "source": [
        "model.compile(optimizer='adam',\n",
        "              loss='sparse_categorical_crossentropy',\n",
        "              metrics=['accuracy'])"
      ],
      "metadata": {
        "id": "YCtC2HpSMdA4"
      },
      "execution_count": 15,
      "outputs": []
    },
    {
      "cell_type": "markdown",
      "source": [
        "### **Train Model**"
      ],
      "metadata": {
        "id": "03greHMPTvje"
      }
    },
    {
      "cell_type": "code",
      "source": [
        "class myCallback(tf.keras.callbacks.Callback):\n",
        "  def on_epoch_end(self, epoch, logs={}):\n",
        "    if logs.get('accuracy') is not None and logs.get('accuracy') > 0.995:\n",
        "      print(\"\\nReached 99.5% accuracy so cancelling training!\")\n",
        "      self.model.stop_training = True\n",
        "\n",
        "\n",
        "callback = myCallback()"
      ],
      "metadata": {
        "id": "_p4uWVUqZvMw"
      },
      "execution_count": 24,
      "outputs": []
    },
    {
      "cell_type": "code",
      "source": [
        "history = model.fit(x_train, y_train,\n",
        "                    batch_size=32,\n",
        "                    epochs=100,\n",
        "                    validation_data=(x_test, y_test),\n",
        "                    callbacks=[callback],\n",
        "                    verbose=2)\n"
      ],
      "metadata": {
        "id": "kCdiMgWFS6xA"
      },
      "execution_count": null,
      "outputs": []
    },
    {
      "cell_type": "markdown",
      "source": [
        "### **Fine-tune the model**"
      ],
      "metadata": {
        "id": "VvvpoO11Mnn-"
      }
    },
    {
      "cell_type": "code",
      "source": [
        "base_model.trainable = True\n",
        "\n",
        "# Fine-tune only the last few layers\n",
        "fine_tune_at = -4\n",
        "for layer in base_model.layers[:fine_tune_at]:\n",
        "    layer.trainable = False\n",
        "\n",
        "model.compile(optimizer=tf.keras.optimizers.Adam(1e-5),\n",
        "              loss='sparse_categorical_crossentropy',\n",
        "              metrics=['accuracy'])\n",
        "\n",
        "# Continue training for a few more epochs\n",
        "history = model.fit(x_train, y_train,\n",
        "                    batch_size=20,\n",
        "                    epochs=100,\n",
        "                    validation_data=(x_test, y_test),\n",
        "                    verbose=2,\n",
        "                    callbacks=[callback])\n"
      ],
      "metadata": {
        "colab": {
          "base_uri": "https://localhost:8080/"
        },
        "id": "yn8ChCHxMrpv",
        "outputId": "645995bc-2e81-4740-94f0-dc941fa8dd40"
      },
      "execution_count": 25,
      "outputs": [
        {
          "output_type": "stream",
          "name": "stdout",
          "text": [
            "Epoch 1/100\n",
            "2500/2500 - 36s - loss: 0.1519 - accuracy: 0.9434 - val_loss: 1.4919 - val_accuracy: 0.7275 - 36s/epoch - 14ms/step\n",
            "Epoch 2/100\n",
            "2500/2500 - 36s - loss: 0.1499 - accuracy: 0.9446 - val_loss: 1.4903 - val_accuracy: 0.7226 - 36s/epoch - 14ms/step\n",
            "Epoch 3/100\n",
            "2500/2500 - 37s - loss: 0.1365 - accuracy: 0.9505 - val_loss: 1.4911 - val_accuracy: 0.7296 - 37s/epoch - 15ms/step\n",
            "Epoch 4/100\n",
            "2500/2500 - 37s - loss: 0.1353 - accuracy: 0.9518 - val_loss: 1.5729 - val_accuracy: 0.7223 - 37s/epoch - 15ms/step\n",
            "Epoch 5/100\n",
            "2500/2500 - 37s - loss: 0.1300 - accuracy: 0.9531 - val_loss: 1.6021 - val_accuracy: 0.7316 - 37s/epoch - 15ms/step\n",
            "Epoch 6/100\n",
            "2500/2500 - 35s - loss: 0.1267 - accuracy: 0.9545 - val_loss: 1.5384 - val_accuracy: 0.7284 - 35s/epoch - 14ms/step\n",
            "Epoch 7/100\n",
            "2500/2500 - 35s - loss: 0.1214 - accuracy: 0.9550 - val_loss: 1.5925 - val_accuracy: 0.7326 - 35s/epoch - 14ms/step\n",
            "Epoch 8/100\n",
            "2500/2500 - 35s - loss: 0.1145 - accuracy: 0.9588 - val_loss: 1.5355 - val_accuracy: 0.7266 - 35s/epoch - 14ms/step\n",
            "Epoch 9/100\n",
            "2500/2500 - 37s - loss: 0.1102 - accuracy: 0.9608 - val_loss: 1.5857 - val_accuracy: 0.7317 - 37s/epoch - 15ms/step\n",
            "Epoch 10/100\n",
            "2500/2500 - 37s - loss: 0.1047 - accuracy: 0.9637 - val_loss: 1.6284 - val_accuracy: 0.7322 - 37s/epoch - 15ms/step\n",
            "Epoch 11/100\n",
            "2500/2500 - 35s - loss: 0.1008 - accuracy: 0.9652 - val_loss: 1.6177 - val_accuracy: 0.7405 - 35s/epoch - 14ms/step\n",
            "Epoch 12/100\n",
            "2500/2500 - 37s - loss: 0.0953 - accuracy: 0.9668 - val_loss: 1.7514 - val_accuracy: 0.7259 - 37s/epoch - 15ms/step\n",
            "Epoch 13/100\n",
            "2500/2500 - 35s - loss: 0.0919 - accuracy: 0.9672 - val_loss: 1.6849 - val_accuracy: 0.7325 - 35s/epoch - 14ms/step\n",
            "Epoch 14/100\n",
            "2500/2500 - 37s - loss: 0.0881 - accuracy: 0.9694 - val_loss: 1.7702 - val_accuracy: 0.7356 - 37s/epoch - 15ms/step\n",
            "Epoch 15/100\n",
            "2500/2500 - 35s - loss: 0.0864 - accuracy: 0.9700 - val_loss: 1.6536 - val_accuracy: 0.7362 - 35s/epoch - 14ms/step\n",
            "Epoch 16/100\n",
            "2500/2500 - 35s - loss: 0.0797 - accuracy: 0.9716 - val_loss: 1.7582 - val_accuracy: 0.7290 - 35s/epoch - 14ms/step\n",
            "Epoch 17/100\n",
            "2500/2500 - 35s - loss: 0.0770 - accuracy: 0.9734 - val_loss: 1.8611 - val_accuracy: 0.7355 - 35s/epoch - 14ms/step\n",
            "Epoch 18/100\n",
            "2500/2500 - 37s - loss: 0.0747 - accuracy: 0.9736 - val_loss: 1.6885 - val_accuracy: 0.7371 - 37s/epoch - 15ms/step\n",
            "Epoch 19/100\n",
            "2500/2500 - 37s - loss: 0.0695 - accuracy: 0.9754 - val_loss: 1.8396 - val_accuracy: 0.7377 - 37s/epoch - 15ms/step\n",
            "Epoch 20/100\n",
            "2500/2500 - 35s - loss: 0.0688 - accuracy: 0.9766 - val_loss: 1.7882 - val_accuracy: 0.7332 - 35s/epoch - 14ms/step\n",
            "Epoch 21/100\n",
            "2500/2500 - 35s - loss: 0.0698 - accuracy: 0.9759 - val_loss: 1.8144 - val_accuracy: 0.7361 - 35s/epoch - 14ms/step\n",
            "Epoch 22/100\n",
            "2500/2500 - 35s - loss: 0.0647 - accuracy: 0.9783 - val_loss: 1.8541 - val_accuracy: 0.7397 - 35s/epoch - 14ms/step\n",
            "Epoch 23/100\n",
            "2500/2500 - 37s - loss: 0.0618 - accuracy: 0.9787 - val_loss: 1.9178 - val_accuracy: 0.7382 - 37s/epoch - 15ms/step\n",
            "Epoch 24/100\n",
            "2500/2500 - 35s - loss: 0.0577 - accuracy: 0.9801 - val_loss: 1.9516 - val_accuracy: 0.7364 - 35s/epoch - 14ms/step\n",
            "Epoch 25/100\n",
            "2500/2500 - 35s - loss: 0.0614 - accuracy: 0.9794 - val_loss: 1.7999 - val_accuracy: 0.7396 - 35s/epoch - 14ms/step\n",
            "Epoch 26/100\n",
            "2500/2500 - 35s - loss: 0.0566 - accuracy: 0.9808 - val_loss: 2.0626 - val_accuracy: 0.7405 - 35s/epoch - 14ms/step\n",
            "Epoch 27/100\n",
            "2500/2500 - 38s - loss: 0.0536 - accuracy: 0.9823 - val_loss: 1.9571 - val_accuracy: 0.7359 - 38s/epoch - 15ms/step\n",
            "Epoch 28/100\n",
            "2500/2500 - 35s - loss: 0.0545 - accuracy: 0.9823 - val_loss: 1.9997 - val_accuracy: 0.7400 - 35s/epoch - 14ms/step\n",
            "Epoch 29/100\n",
            "2500/2500 - 37s - loss: 0.0501 - accuracy: 0.9829 - val_loss: 1.9282 - val_accuracy: 0.7415 - 37s/epoch - 15ms/step\n",
            "Epoch 30/100\n",
            "2500/2500 - 35s - loss: 0.0512 - accuracy: 0.9831 - val_loss: 2.0241 - val_accuracy: 0.7376 - 35s/epoch - 14ms/step\n",
            "Epoch 31/100\n",
            "2500/2500 - 37s - loss: 0.0472 - accuracy: 0.9841 - val_loss: 2.0885 - val_accuracy: 0.7380 - 37s/epoch - 15ms/step\n",
            "Epoch 32/100\n",
            "2500/2500 - 37s - loss: 0.0494 - accuracy: 0.9836 - val_loss: 2.0966 - val_accuracy: 0.7380 - 37s/epoch - 15ms/step\n",
            "Epoch 33/100\n",
            "2500/2500 - 37s - loss: 0.0456 - accuracy: 0.9844 - val_loss: 2.1616 - val_accuracy: 0.7383 - 37s/epoch - 15ms/step\n",
            "Epoch 34/100\n",
            "2500/2500 - 37s - loss: 0.0427 - accuracy: 0.9857 - val_loss: 2.2183 - val_accuracy: 0.7374 - 37s/epoch - 15ms/step\n",
            "Epoch 35/100\n",
            "2500/2500 - 37s - loss: 0.0477 - accuracy: 0.9843 - val_loss: 2.0932 - val_accuracy: 0.7363 - 37s/epoch - 15ms/step\n",
            "Epoch 36/100\n",
            "2500/2500 - 37s - loss: 0.0433 - accuracy: 0.9862 - val_loss: 2.0607 - val_accuracy: 0.7405 - 37s/epoch - 15ms/step\n",
            "Epoch 37/100\n",
            "2500/2500 - 37s - loss: 0.0431 - accuracy: 0.9859 - val_loss: 2.1188 - val_accuracy: 0.7432 - 37s/epoch - 15ms/step\n",
            "Epoch 38/100\n",
            "2500/2500 - 37s - loss: 0.0403 - accuracy: 0.9866 - val_loss: 2.0532 - val_accuracy: 0.7354 - 37s/epoch - 15ms/step\n",
            "Epoch 39/100\n",
            "2500/2500 - 35s - loss: 0.0410 - accuracy: 0.9865 - val_loss: 2.0368 - val_accuracy: 0.7365 - 35s/epoch - 14ms/step\n",
            "Epoch 40/100\n",
            "2500/2500 - 37s - loss: 0.0348 - accuracy: 0.9881 - val_loss: 2.3224 - val_accuracy: 0.7361 - 37s/epoch - 15ms/step\n",
            "Epoch 41/100\n",
            "2500/2500 - 37s - loss: 0.0433 - accuracy: 0.9860 - val_loss: 2.0135 - val_accuracy: 0.7423 - 37s/epoch - 15ms/step\n",
            "Epoch 42/100\n",
            "2500/2500 - 37s - loss: 0.0337 - accuracy: 0.9890 - val_loss: 2.2352 - val_accuracy: 0.7409 - 37s/epoch - 15ms/step\n",
            "Epoch 43/100\n",
            "2500/2500 - 37s - loss: 0.0419 - accuracy: 0.9863 - val_loss: 2.0841 - val_accuracy: 0.7336 - 37s/epoch - 15ms/step\n",
            "Epoch 44/100\n",
            "2500/2500 - 38s - loss: 0.0337 - accuracy: 0.9891 - val_loss: 2.1230 - val_accuracy: 0.7373 - 38s/epoch - 15ms/step\n",
            "Epoch 45/100\n",
            "2500/2500 - 37s - loss: 0.0346 - accuracy: 0.9886 - val_loss: 2.2011 - val_accuracy: 0.7426 - 37s/epoch - 15ms/step\n",
            "Epoch 46/100\n",
            "2500/2500 - 37s - loss: 0.0346 - accuracy: 0.9886 - val_loss: 2.4108 - val_accuracy: 0.7313 - 37s/epoch - 15ms/step\n",
            "Epoch 47/100\n",
            "2500/2500 - 35s - loss: 0.0347 - accuracy: 0.9884 - val_loss: 2.2402 - val_accuracy: 0.7418 - 35s/epoch - 14ms/step\n",
            "Epoch 48/100\n",
            "2500/2500 - 35s - loss: 0.0347 - accuracy: 0.9890 - val_loss: 2.1964 - val_accuracy: 0.7419 - 35s/epoch - 14ms/step\n",
            "Epoch 49/100\n",
            "2500/2500 - 35s - loss: 0.0311 - accuracy: 0.9898 - val_loss: 2.2247 - val_accuracy: 0.7461 - 35s/epoch - 14ms/step\n",
            "Epoch 50/100\n",
            "2500/2500 - 37s - loss: 0.0303 - accuracy: 0.9902 - val_loss: 2.2832 - val_accuracy: 0.7374 - 37s/epoch - 15ms/step\n",
            "Epoch 51/100\n",
            "2500/2500 - 35s - loss: 0.0311 - accuracy: 0.9896 - val_loss: 2.4316 - val_accuracy: 0.7430 - 35s/epoch - 14ms/step\n",
            "Epoch 52/100\n",
            "2500/2500 - 35s - loss: 0.0298 - accuracy: 0.9907 - val_loss: 2.2532 - val_accuracy: 0.7414 - 35s/epoch - 14ms/step\n",
            "Epoch 53/100\n",
            "2500/2500 - 37s - loss: 0.0292 - accuracy: 0.9901 - val_loss: 2.4796 - val_accuracy: 0.7318 - 37s/epoch - 15ms/step\n",
            "Epoch 54/100\n",
            "2500/2500 - 35s - loss: 0.0306 - accuracy: 0.9905 - val_loss: 2.2830 - val_accuracy: 0.7416 - 35s/epoch - 14ms/step\n",
            "Epoch 55/100\n",
            "2500/2500 - 37s - loss: 0.0258 - accuracy: 0.9917 - val_loss: 2.4349 - val_accuracy: 0.7398 - 37s/epoch - 15ms/step\n",
            "Epoch 56/100\n",
            "2500/2500 - 35s - loss: 0.0300 - accuracy: 0.9902 - val_loss: 2.3897 - val_accuracy: 0.7429 - 35s/epoch - 14ms/step\n",
            "Epoch 57/100\n",
            "2500/2500 - 35s - loss: 0.0280 - accuracy: 0.9914 - val_loss: 2.3749 - val_accuracy: 0.7409 - 35s/epoch - 14ms/step\n",
            "Epoch 58/100\n",
            "2500/2500 - 35s - loss: 0.0264 - accuracy: 0.9916 - val_loss: 2.4749 - val_accuracy: 0.7386 - 35s/epoch - 14ms/step\n",
            "Epoch 59/100\n",
            "2500/2500 - 35s - loss: 0.0270 - accuracy: 0.9913 - val_loss: 2.5214 - val_accuracy: 0.7405 - 35s/epoch - 14ms/step\n",
            "Epoch 60/100\n",
            "2500/2500 - 37s - loss: 0.0280 - accuracy: 0.9910 - val_loss: 2.3525 - val_accuracy: 0.7403 - 37s/epoch - 15ms/step\n",
            "Epoch 61/100\n",
            "2500/2500 - 37s - loss: 0.0268 - accuracy: 0.9915 - val_loss: 2.3933 - val_accuracy: 0.7361 - 37s/epoch - 15ms/step\n",
            "Epoch 62/100\n",
            "2500/2500 - 35s - loss: 0.0228 - accuracy: 0.9926 - val_loss: 2.5105 - val_accuracy: 0.7427 - 35s/epoch - 14ms/step\n",
            "Epoch 63/100\n",
            "2500/2500 - 35s - loss: 0.0263 - accuracy: 0.9917 - val_loss: 2.2606 - val_accuracy: 0.7415 - 35s/epoch - 14ms/step\n",
            "Epoch 64/100\n",
            "2500/2500 - 35s - loss: 0.0249 - accuracy: 0.9922 - val_loss: 2.3427 - val_accuracy: 0.7469 - 35s/epoch - 14ms/step\n",
            "Epoch 65/100\n",
            "2500/2500 - 35s - loss: 0.0248 - accuracy: 0.9920 - val_loss: 2.5689 - val_accuracy: 0.7408 - 35s/epoch - 14ms/step\n",
            "Epoch 66/100\n",
            "2500/2500 - 35s - loss: 0.0231 - accuracy: 0.9924 - val_loss: 2.4479 - val_accuracy: 0.7426 - 35s/epoch - 14ms/step\n",
            "Epoch 67/100\n",
            "2500/2500 - 35s - loss: 0.0224 - accuracy: 0.9928 - val_loss: 2.4841 - val_accuracy: 0.7429 - 35s/epoch - 14ms/step\n",
            "Epoch 68/100\n",
            "2500/2500 - 35s - loss: 0.0248 - accuracy: 0.9919 - val_loss: 2.4646 - val_accuracy: 0.7450 - 35s/epoch - 14ms/step\n",
            "Epoch 69/100\n",
            "2500/2500 - 35s - loss: 0.0246 - accuracy: 0.9924 - val_loss: 2.4328 - val_accuracy: 0.7445 - 35s/epoch - 14ms/step\n",
            "Epoch 70/100\n",
            "2500/2500 - 37s - loss: 0.0225 - accuracy: 0.9930 - val_loss: 2.4714 - val_accuracy: 0.7411 - 37s/epoch - 15ms/step\n",
            "Epoch 71/100\n",
            "2500/2500 - 37s - loss: 0.0233 - accuracy: 0.9929 - val_loss: 2.5046 - val_accuracy: 0.7437 - 37s/epoch - 15ms/step\n",
            "Epoch 72/100\n",
            "2500/2500 - 37s - loss: 0.0235 - accuracy: 0.9928 - val_loss: 2.5940 - val_accuracy: 0.7432 - 37s/epoch - 15ms/step\n",
            "Epoch 73/100\n",
            "2500/2500 - 37s - loss: 0.0241 - accuracy: 0.9925 - val_loss: 2.4714 - val_accuracy: 0.7458 - 37s/epoch - 15ms/step\n",
            "Epoch 74/100\n",
            "2500/2500 - 37s - loss: 0.0202 - accuracy: 0.9932 - val_loss: 2.4747 - val_accuracy: 0.7449 - 37s/epoch - 15ms/step\n",
            "Epoch 75/100\n",
            "2500/2500 - 35s - loss: 0.0200 - accuracy: 0.9935 - val_loss: 2.5872 - val_accuracy: 0.7419 - 35s/epoch - 14ms/step\n",
            "Epoch 76/100\n",
            "2500/2500 - 37s - loss: 0.0221 - accuracy: 0.9932 - val_loss: 2.7163 - val_accuracy: 0.7418 - 37s/epoch - 15ms/step\n",
            "Epoch 77/100\n",
            "2500/2500 - 35s - loss: 0.0199 - accuracy: 0.9942 - val_loss: 2.6362 - val_accuracy: 0.7392 - 35s/epoch - 14ms/step\n",
            "Epoch 78/100\n",
            "2500/2500 - 35s - loss: 0.0213 - accuracy: 0.9930 - val_loss: 2.4053 - val_accuracy: 0.7444 - 35s/epoch - 14ms/step\n",
            "Epoch 79/100\n",
            "2500/2500 - 37s - loss: 0.0223 - accuracy: 0.9933 - val_loss: 2.5812 - val_accuracy: 0.7399 - 37s/epoch - 15ms/step\n",
            "Epoch 80/100\n",
            "2500/2500 - 37s - loss: 0.0204 - accuracy: 0.9935 - val_loss: 2.5948 - val_accuracy: 0.7445 - 37s/epoch - 15ms/step\n",
            "Epoch 81/100\n",
            "2500/2500 - 37s - loss: 0.0202 - accuracy: 0.9939 - val_loss: 2.6421 - val_accuracy: 0.7457 - 37s/epoch - 15ms/step\n",
            "Epoch 82/100\n",
            "2500/2500 - 35s - loss: 0.0187 - accuracy: 0.9944 - val_loss: 2.6611 - val_accuracy: 0.7367 - 35s/epoch - 14ms/step\n",
            "Epoch 83/100\n",
            "2500/2500 - 37s - loss: 0.0195 - accuracy: 0.9938 - val_loss: 2.7531 - val_accuracy: 0.7437 - 37s/epoch - 15ms/step\n",
            "Epoch 84/100\n",
            "2500/2500 - 37s - loss: 0.0169 - accuracy: 0.9945 - val_loss: 2.7325 - val_accuracy: 0.7452 - 37s/epoch - 15ms/step\n",
            "Epoch 85/100\n",
            "2500/2500 - 35s - loss: 0.0208 - accuracy: 0.9936 - val_loss: 2.8442 - val_accuracy: 0.7407 - 35s/epoch - 14ms/step\n",
            "Epoch 86/100\n",
            "2500/2500 - 35s - loss: 0.0195 - accuracy: 0.9940 - val_loss: 2.6765 - val_accuracy: 0.7517 - 35s/epoch - 14ms/step\n",
            "Epoch 87/100\n",
            "2500/2500 - 35s - loss: 0.0209 - accuracy: 0.9936 - val_loss: 2.5100 - val_accuracy: 0.7444 - 35s/epoch - 14ms/step\n",
            "Epoch 88/100\n",
            "2500/2500 - 37s - loss: 0.0185 - accuracy: 0.9941 - val_loss: 2.8178 - val_accuracy: 0.7405 - 37s/epoch - 15ms/step\n",
            "Epoch 89/100\n",
            "2500/2500 - 37s - loss: 0.0194 - accuracy: 0.9946 - val_loss: 2.5034 - val_accuracy: 0.7419 - 37s/epoch - 15ms/step\n",
            "Epoch 90/100\n",
            "2500/2500 - 37s - loss: 0.0165 - accuracy: 0.9949 - val_loss: 2.7933 - val_accuracy: 0.7433 - 37s/epoch - 15ms/step\n",
            "Epoch 91/100\n",
            "2500/2500 - 37s - loss: 0.0198 - accuracy: 0.9940 - val_loss: 2.6776 - val_accuracy: 0.7449 - 37s/epoch - 15ms/step\n",
            "Epoch 92/100\n",
            "2500/2500 - 37s - loss: 0.0183 - accuracy: 0.9940 - val_loss: 2.8810 - val_accuracy: 0.7401 - 37s/epoch - 15ms/step\n",
            "Epoch 93/100\n",
            "2500/2500 - 35s - loss: 0.0166 - accuracy: 0.9949 - val_loss: 2.7186 - val_accuracy: 0.7467 - 35s/epoch - 14ms/step\n",
            "Epoch 94/100\n",
            "2500/2500 - 37s - loss: 0.0193 - accuracy: 0.9943 - val_loss: 2.7872 - val_accuracy: 0.7453 - 37s/epoch - 15ms/step\n",
            "Epoch 95/100\n",
            "2500/2500 - 37s - loss: 0.0177 - accuracy: 0.9949 - val_loss: 3.0040 - val_accuracy: 0.7421 - 37s/epoch - 15ms/step\n",
            "Epoch 96/100\n",
            "2500/2500 - 37s - loss: 0.0182 - accuracy: 0.9948 - val_loss: 2.9233 - val_accuracy: 0.7436 - 37s/epoch - 15ms/step\n",
            "Epoch 97/100\n",
            "\n",
            "Reached 99.5% accuracy so cancelling training!\n",
            "2500/2500 - 35s - loss: 0.0177 - accuracy: 0.9950 - val_loss: 2.5580 - val_accuracy: 0.7438 - 35s/epoch - 14ms/step\n"
          ]
        }
      ]
    },
    {
      "cell_type": "code",
      "source": [
        "test_loss, test_accuracy = model.evaluate(x_test, y_test)\n",
        "print(f'Test accuracy: {test_accuracy*100:.2f}%')"
      ],
      "metadata": {
        "colab": {
          "base_uri": "https://localhost:8080/"
        },
        "id": "JKe-qqQnZX2x",
        "outputId": "3be93d38-7c1f-4e76-a7d7-dcf9453d7b13"
      },
      "execution_count": 27,
      "outputs": [
        {
          "output_type": "stream",
          "name": "stdout",
          "text": [
            "313/313 [==============================] - 3s 9ms/step - loss: 2.5580 - accuracy: 0.7438\n",
            "Test accuracy: 74.38%\n"
          ]
        }
      ]
    },
    {
      "cell_type": "markdown",
      "source": [
        "### **Save Model**"
      ],
      "metadata": {
        "id": "z4Qyk2FfeQIn"
      }
    },
    {
      "cell_type": "code",
      "source": [
        "model.save(\"cifar10_model.h5\")"
      ],
      "metadata": {
        "id": "Rmjag8ZVeTRS"
      },
      "execution_count": null,
      "outputs": []
    },
    {
      "cell_type": "code",
      "source": [
        "model.save('my_model.keras')"
      ],
      "metadata": {
        "id": "5VfULL61oZUn"
      },
      "execution_count": 29,
      "outputs": []
    },
    {
      "cell_type": "markdown",
      "source": [
        "### **Test Model**"
      ],
      "metadata": {
        "id": "xZwya1gkgm4L"
      }
    },
    {
      "cell_type": "code",
      "source": [
        "model.summary()"
      ],
      "metadata": {
        "colab": {
          "base_uri": "https://localhost:8080/"
        },
        "id": "9sYfW26MgrLU",
        "outputId": "a0e4f38f-505c-4c1b-8227-b1f63f41d56f"
      },
      "execution_count": 30,
      "outputs": [
        {
          "output_type": "stream",
          "name": "stdout",
          "text": [
            "Model: \"sequential_2\"\n",
            "_________________________________________________________________\n",
            " Layer (type)                Output Shape              Param #   \n",
            "=================================================================\n",
            " vgg16 (Functional)          (None, 1, 1, 512)         14714688  \n",
            "                                                                 \n",
            " flatten_2 (Flatten)         (None, 512)               0         \n",
            "                                                                 \n",
            " dense_4 (Dense)             (None, 256)               131328    \n",
            "                                                                 \n",
            " dropout_4 (Dropout)         (None, 256)               0         \n",
            "                                                                 \n",
            " dense_5 (Dense)             (None, 10)                2570      \n",
            "                                                                 \n",
            "=================================================================\n",
            "Total params: 14848586 (56.64 MB)\n",
            "Trainable params: 7213322 (27.52 MB)\n",
            "Non-trainable params: 7635264 (29.13 MB)\n",
            "_________________________________________________________________\n"
          ]
        }
      ]
    }
  ]
}